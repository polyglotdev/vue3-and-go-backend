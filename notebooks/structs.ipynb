{
 "cells": [
  {
   "cell_type": "code",
   "execution_count": 1,
   "metadata": {},
   "outputs": [],
   "source": [
    "/* \n",
    "  We have an `NBA` struct that contains information about a team and its players. We want to understand the implications of using a pointer versus a value type for the `players` field in the `NBA` struct.\n",
    "*/\n",
    "\n",
    "// NBA is a struct that represents a National Basketball Association team\n",
    "type NBA struct {\n",
    "  // teamName is a string that represents the name of the team\n",
    "  teamName string\n",
    "  // players is a slice of Player structs that represents the players on the team\n",
    "  players  []Player\n",
    "}\n",
    "\n",
    "type Player struct {\n",
    "  name   string\n",
    "  number int\n",
    "  points int\n",
    "}\n"
   ]
  },
  {
   "cell_type": "markdown",
   "metadata": {},
   "source": [
    "## Key Points\n",
    "\n",
    "1. Pointer vs. Value Type:\n",
    "\n",
    "- Pointer (`*[]Player`)\n",
    "  - A pointer to a slice of Player structs means that the NBA struct holds a reference to the slice. Changes to the slice will be reflected in the NBA struct.\n",
    "- Value (`[Player]`) \n",
    "  - A value type means that the NBA struct holds its own copy of the slice. Changes to the slice elsewhere do not affect the 'NBA struct.\n",
    "\n",
    "1. Initialization:\n",
    "   1. When using a pointer, you need to ensure that the slice is properly initialized before use. If not, you might encounter nil pointer dereference errors.\n",
    "   2. Using a value type simplifies initialization and avoids potential nil' pointer issues.\n",
    "\n",
    "### Example Scenario\n",
    "\n",
    "Consider the following initialization code:\n",
    "\n",
    "```go\n",
    "func main() {\n",
    "  players := []Player{\n",
    "    {name: \"LeBron James\", number: 23, points: 1000},\n",
    "    {name: \"Anthony Davis\", number: 3, points: 800},\n",
    "  }\n",
    "\n",
    "  team := NBA{\n",
    "    teamName: \"Los Angeles Lakers\",\n",
    "    players:  players, // Using value type\n",
    "  }\n",
    "\n",
    "  // Modifying the players slice\n",
    "  players[0].points += 50\n",
    "\n",
    "  fmt.Printf(\"Team: %s\\n\", team.teamName)\n",
    "  for _, player := range team.players {\n",
    "    fmt.Printf(\"Player: %s, Number: %d, Points: %d\\n\", player.name, player.number, player.points)\n",
    "  }\n",
    "}\n",
    "```"
   ]
  },
  {
   "cell_type": "code",
   "execution_count": 8,
   "metadata": {},
   "outputs": [
    {
     "ename": "ERROR",
     "evalue": "repl.go:15:1: type []main.Player has no field \"points\": team.players.points",
     "output_type": "error",
     "traceback": [
      "repl.go:15:1: type []main.Player has no field \"points\": team.players.points"
     ]
    }
   ],
   "source": [
    "import(\n",
    "  \"fmt\"\n",
    ")\n",
    "\n",
    "players := []Player{\n",
    "  {name: \"Lebron James\", number: 23, points: 1000},\n",
    "  {name: \"Anthony Davis\", number: 22, points: 800},\n",
    "}\n",
    "\n",
    "team := NBA {\n",
    "  teamName: \"Los Angeles Lakers\",\n",
    "  players: players,\n",
    "}\n",
    "\n",
    "team.players.points += 50\n",
    "\n",
    "fmt.Printf(\"Team: %s\\n\", team.teamName)\n",
    "for _, player := range team.players {\n",
    "  fmt.Printf(\"Player: %s, Points: %d\\n\", player.name, player.points)\n",
    "}\n"
   ]
  },
  {
   "cell_type": "code",
   "execution_count": null,
   "metadata": {},
   "outputs": [],
   "source": []
  }
 ],
 "metadata": {
  "kernelspec": {
   "display_name": "Go",
   "language": "go",
   "name": "gophernotes"
  },
  "language_info": {
   "codemirror_mode": "",
   "file_extension": ".go",
   "mimetype": "",
   "name": "go",
   "nbconvert_exporter": "",
   "pygments_lexer": "",
   "version": "go1.21.1"
  }
 },
 "nbformat": 4,
 "nbformat_minor": 2
}
